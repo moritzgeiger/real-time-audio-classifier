{
 "cells": [
  {
   "cell_type": "code",
   "execution_count": 2,
   "id": "fb8f1a33-2948-446c-87fa-1b66e4584b57",
   "metadata": {},
   "outputs": [
    {
     "name": "stderr",
     "output_type": "stream",
     "text": [
      "2023-11-21 09:43:11.037979: I tensorflow/core/platform/cpu_feature_guard.cc:182] This TensorFlow binary is optimized to use available CPU instructions in performance-critical operations.\n",
      "To enable the following instructions: AVX2 FMA, in other operations, rebuild TensorFlow with the appropriate compiler flags.\n"
     ]
    }
   ],
   "source": [
    "import argparse\n",
    "\n",
    "import numpy as np\n",
    "import pyaudio\n",
    "from matplotlib import pyplot as plt\n",
    "import pandas as pd\n",
    "import sounddevice as sd\n",
    "\n",
    "from audio_classifier.data import params\n",
    "from audio_classifier.utils.yamnet import YAMNet, class_names\n",
    "from audio_classifier.utils.preprocessing import preprocess_input\n",
    "from audio_classifier.utils.plot import Plotter\n"
   ]
  },
  {
   "cell_type": "code",
   "execution_count": 40,
   "id": "ec743ff1-bea4-407d-b631-737f12ed12fd",
   "metadata": {},
   "outputs": [
    {
     "name": "stdout",
     "output_type": "stream",
     "text": [
      "recording...\n"
     ]
    }
   ],
   "source": [
    "FORMAT = pyaudio.paFloat32\n",
    "CHANNELS = 1\n",
    "RATE = params.SAMPLE_RATE\n",
    "WIN_SIZE_SEC = 0.975\n",
    "CHUNK = int(WIN_SIZE_SEC * RATE)\n",
    "RECORD_SECONDS = 500\n",
    "MIC = None\n",
    "\n",
    "\n",
    "\n",
    "audio = pyaudio.PyAudio()\n",
    "\n",
    "# start Recording\n",
    "stream = audio.open(\n",
    "    format=FORMAT,\n",
    "    input_device_index=MIC,\n",
    "    channels=CHANNELS,\n",
    "    rate=RATE,\n",
    "    input=True,\n",
    "    frames_per_buffer=CHUNK,\n",
    ")\n",
    "print(\"recording...\")\n"
   ]
  },
  {
   "cell_type": "code",
   "execution_count": 47,
   "id": "c7c012f2-84c5-45f1-9136-a801d16c9b31",
   "metadata": {},
   "outputs": [],
   "source": [
    "\n",
    "\n",
    "stream.close()\n",
    "stream.stop_stream()\n",
    "# stream.is_active()\n",
    "\n"
   ]
  },
  {
   "cell_type": "code",
   "execution_count": 48,
   "id": "6f9449c0-6fc6-425f-a784-11641302a718",
   "metadata": {},
   "outputs": [],
   "source": [
    "audio.terminate()"
   ]
  },
  {
   "cell_type": "code",
   "execution_count": 49,
   "id": "ae615e87-8d5f-4ef0-9e80-c526fbb2c034",
   "metadata": {},
   "outputs": [],
   "source": [
    "audio.terminate()\n"
   ]
  },
  {
   "cell_type": "code",
   "execution_count": 57,
   "id": "97ae5df2-bea5-4674-b8a0-d088ed45dba1",
   "metadata": {},
   "outputs": [
    {
     "data": {
      "text/plain": [
       "array([2, 3, 7])"
      ]
     },
     "execution_count": 57,
     "metadata": {},
     "output_type": "execute_result"
    }
   ],
   "source": [
    "l = [\n",
    "    1,2,3,4,5,6,7\n",
    "]\n",
    "\n",
    "np.array(l)[[1,2,6]]"
   ]
  },
  {
   "cell_type": "code",
   "execution_count": null,
   "id": "73adf3b2-611c-42a5-a6d6-0ebdec15e1c8",
   "metadata": {},
   "outputs": [],
   "source": []
  }
 ],
 "metadata": {
  "kernelspec": {
   "display_name": "Python 3 (ipykernel)",
   "language": "python",
   "name": "python3"
  },
  "language_info": {
   "codemirror_mode": {
    "name": "ipython",
    "version": 3
   },
   "file_extension": ".py",
   "mimetype": "text/x-python",
   "name": "python",
   "nbconvert_exporter": "python",
   "pygments_lexer": "ipython3",
   "version": "3.9.0"
  }
 },
 "nbformat": 4,
 "nbformat_minor": 5
}
